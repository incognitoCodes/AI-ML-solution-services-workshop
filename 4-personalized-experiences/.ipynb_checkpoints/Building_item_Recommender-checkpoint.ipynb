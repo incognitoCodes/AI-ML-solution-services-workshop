{
 "cells": [
  {
   "cell_type": "markdown",
   "id": "8ee0b6bb",
   "metadata": {},
   "source": [
    "## Building your own recommender\n",
    "\n",
    "This tutorial walks you through building your own recommender.\n",
    "You will see how you can create resources in Amazon Personalize that generate recommendations, just like the Magic Movie Machine!"
   ]
  },
  {
   "cell_type": "markdown",
   "id": "27166afa",
   "metadata": {},
   "source": [
    "### Creating S3 bucket and importing data"
   ]
  },
  {
   "cell_type": "markdown",
   "id": "ab9544fe",
   "metadata": {},
   "source": [
    "- Create a S3 bucket in us-east-1 zone and give a unique name\n",
    "- Download the ratings.csv file to your local and import to your S3 bucket."
   ]
  },
  {
   "cell_type": "markdown",
   "id": "88da535f",
   "metadata": {},
   "source": [
    "### Attaching an Amazon S3 policy to your Amazon Personalize service role"
   ]
  },
  {
   "cell_type": "markdown",
   "id": "61e648b0",
   "metadata": {},
   "source": [
    "\n",
    "- Go to IAM and create a new policy so that Personalize will be able to access the S3 bucket.\n",
    "- In the navigation pane, choose Policies, and choose Create policy.\n",
    "- Choose the JSON tab, and update the policy as follows. Replace bucket-name with the name of your bucket. \n",
    "\n",
    "`{\n",
    "    \"Version\": \"2012-10-17\",\n",
    "    \"Id\": \"PersonalizeS3BucketAccessPolicy\",\n",
    "    \"Statement\": [\n",
    "        {\n",
    "            \"Sid\": \"PersonalizeS3BucketAccessPolicy\",\n",
    "            \"Effect\": \"Allow\",\n",
    "            \"Action\": [\n",
    "                \"s3:GetObject\",\n",
    "                \"s3:ListBucket\"\n",
    "            ],\n",
    "            \"Resource\": [\n",
    "                \"arn:aws:s3:::bucket-name\",\n",
    "                \"arn:aws:s3:::bucket-name/*\"\n",
    "            ]\n",
    "        }\n",
    "    ]\n",
    "}`\n",
    "\n",
    "- Choose Next: Tags. Optionally add any tags and choose Review.\n",
    "- Give the policy a name.\n",
    "- Choose Create policy.\n",
    "\n",
    "3. Go to your S3 bucket and attach the below policy to your Amazon S3 bucket so that personalize is able to access your S3 bucket. Remember to change the bucket name to your unique S3 bucket name\n",
    "\n",
    "`{\n",
    "    \"Version\": \"2012-10-17\",\n",
    "    \"Id\": \"PersonalizeS3BucketAccessPolicy\",\n",
    "    \"Statement\": [\n",
    "        {\n",
    "            \"Sid\": \"PersonalizeS3BucketAccessPolicy\",\n",
    "            \"Effect\": \"Allow\",\n",
    "            \"Principal\": {\n",
    "                \"Service\": \"personalize.amazonaws.com\"\n",
    "            },\n",
    "            \"Action\": [\n",
    "                \"s3:GetObject\",\n",
    "                \"s3:ListBucket\",\n",
    "                \"s3:PutObject\",\n",
    "                \"s3:PutObjectAcl\"\n",
    "            ],\n",
    "            \"Resource\": [\n",
    "                \"arn:aws:s3:::personalizedemo-abhijit\",\n",
    "                \"arn:aws:s3:::personalizedemo-abhijit/*\"\n",
    "            ]\n",
    "        }\n",
    "    ]\n",
    "}`\n",
    "\n"
   ]
  },
  {
   "cell_type": "code",
   "execution_count": null,
   "id": "b4698195",
   "metadata": {},
   "outputs": [],
   "source": []
  },
  {
   "cell_type": "code",
   "execution_count": null,
   "id": "93098fcf",
   "metadata": {},
   "outputs": [],
   "source": []
  },
  {
   "cell_type": "code",
   "execution_count": null,
   "id": "6162de58",
   "metadata": {},
   "outputs": [],
   "source": []
  }
 ],
 "metadata": {
  "kernelspec": {
   "display_name": "conda_python3",
   "language": "python",
   "name": "conda_python3"
  },
  "language_info": {
   "codemirror_mode": {
    "name": "ipython",
    "version": 3
   },
   "file_extension": ".py",
   "mimetype": "text/x-python",
   "name": "python",
   "nbconvert_exporter": "python",
   "pygments_lexer": "ipython3",
   "version": "3.8.12"
  }
 },
 "nbformat": 4,
 "nbformat_minor": 5
}
